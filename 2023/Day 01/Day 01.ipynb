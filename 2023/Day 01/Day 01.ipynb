{
 "cells": [
  {
   "cell_type": "markdown",
   "metadata": {},
   "source": [
    "# Day 1: Trebuchet\n",
    "\n",
    "Something is wrong with global snow production, and you've been selected to take a look. The Elves have even given you a map; on it, they've used stars to mark the top fifty locations that are likely to be having problems.\n",
    "\n",
    "You've been doing this long enough to know that to restore snow operations, you need to check all fifty stars by December 25th.\n",
    "\n",
    "Collect stars by solving puzzles. Two puzzles will be made available on each day in the Advent calendar; the second puzzle is unlocked when you complete the first. Each puzzle grants one star. Good luck!\n",
    "\n",
    "You try to ask why they can't just use a weather machine (\"not powerful enough\") and where they're even sending you (\"the sky\") and why your map looks mostly blank (\"you sure ask a lot of questions\") and hang on did you just say the sky (\"of course, where do you think snow comes from\") when you realize that the Elves are already loading you into a trebuchet (\"please hold still, we need to strap you in\").\n",
    "\n",
    "As they're making the final adjustments, they discover that their calibration document (your puzzle input) has been amended by a very young Elf who was apparently just excited to show off her art skills. Consequently, the Elves are having trouble reading the values on the document.\n",
    "\n",
    "The newly-improved calibration document consists of lines of text; each line originally contained a specific calibration value that the Elves now need to recover. On each line, the calibration value can be found by combining the first digit and the last digit (in that order) to form a single two-digit number."
   ]
  },
  {
   "cell_type": "markdown",
   "metadata": {},
   "source": [
    "## Part 1"
   ]
  },
  {
   "cell_type": "code",
   "execution_count": null,
   "metadata": {},
   "outputs": [],
   "source": [
    "import re"
   ]
  },
  {
   "cell_type": "code",
   "execution_count": 23,
   "metadata": {},
   "outputs": [],
   "source": [
    "f = open(\"input.txt\", \"r\")"
   ]
  },
  {
   "cell_type": "code",
   "execution_count": 28,
   "metadata": {},
   "outputs": [],
   "source": [
    "# remove all characters from the text file\n",
    "remove_chars = []\n",
    "for x in f:\n",
    "    remove_chars.append(re.sub(r'[a-zA-Z\\n]', \"\", x))"
   ]
  },
  {
   "cell_type": "code",
   "execution_count": 29,
   "metadata": {},
   "outputs": [],
   "source": [
    "int_list = []\n",
    "for i in remove_chars:\n",
    "    int_list.append(int(i[0]+i[-1]))"
   ]
  },
  {
   "cell_type": "code",
   "execution_count": 32,
   "metadata": {},
   "outputs": [
    {
     "name": "stdout",
     "output_type": "stream",
     "text": [
      "0\n"
     ]
    }
   ],
   "source": [
    "total_sum = sum(int_list)\n",
    "print(total_sum)"
   ]
  },
  {
   "cell_type": "code",
   "execution_count": 68,
   "metadata": {},
   "outputs": [],
   "source": [
    "\n",
    "def load_file(input_file):\n",
    "    with open(input_file, 'r') as file:\n",
    "        input_file = file.readlines()\n",
    "    \n",
    "    file_list = []\n",
    "    for line in input_file:\n",
    "        file_list.append(line.strip())\n",
    "    \n",
    "    return file_list"
   ]
  },
  {
   "cell_type": "code",
   "execution_count": 69,
   "metadata": {},
   "outputs": [],
   "source": [
    "input_file = load_file(\"input.txt\")"
   ]
  },
  {
   "cell_type": "code",
   "execution_count": 83,
   "metadata": {},
   "outputs": [],
   "source": [
    "def count_digits(input_file):\n",
    "\n",
    "    # Initialize an empty list to store results\n",
    "    result_list = []\n",
    "\n",
    "    # Iterate through each line in the file\n",
    "    for line in input_file:\n",
    "        # Remove leading and trailing whitespaces\n",
    "        cleaned_line = line.strip()\n",
    "        # Check if the line is not empty\n",
    "        print(line)\n",
    "        if cleaned_line:\n",
    "            # Extract digits\n",
    "            digits = re.sub(r'[a-zA-Z\\n]', \"\", cleaned_line)\n",
    "            first_digit = digits[0]\n",
    "            last_digit = digits[-1]\n",
    "\n",
    "            result_list.append(int(first_digit + last_digit))\n",
    "    \n",
    "    # Now sum these values\n",
    "    result_sum = sum(result_list)\n",
    "    \n",
    "    return result_sum"
   ]
  },
  {
   "cell_type": "markdown",
   "metadata": {},
   "source": [
    "Run the test string"
   ]
  },
  {
   "cell_type": "code",
   "execution_count": 74,
   "metadata": {},
   "outputs": [],
   "source": [
    "test = [\"1abc2\", \"pqr3stu8vwx\", \"a1b2c3d4e5f\", \"treb7uchet\"]"
   ]
  },
  {
   "cell_type": "code",
   "execution_count": 82,
   "metadata": {},
   "outputs": [
    {
     "data": {
      "text/plain": [
       "142"
      ]
     },
     "execution_count": 82,
     "metadata": {},
     "output_type": "execute_result"
    }
   ],
   "source": [
    "count_digits(test)"
   ]
  },
  {
   "cell_type": "markdown",
   "metadata": {},
   "source": [
    "Run the input.txt file"
   ]
  },
  {
   "cell_type": "code",
   "execution_count": 79,
   "metadata": {},
   "outputs": [
    {
     "data": {
      "text/plain": [
       "55029"
      ]
     },
     "execution_count": 79,
     "metadata": {},
     "output_type": "execute_result"
    }
   ],
   "source": [
    "count_digits(input_file)"
   ]
  },
  {
   "cell_type": "markdown",
   "metadata": {},
   "source": [
    "## Part 2\n",
    "\n",
    "Your calculation isn't quite right. It looks like some of the digits are actually spelled out with letters: one, two, three, four, five, six, seven, eight, and nine also count as valid \"digits\".\n",
    "\n",
    "Equipped with this new information, you now need to find the real first and last digit on each line. For example:\n",
    "\n",
    "two1nine\n",
    "eightwothree\n",
    "abcone2threexyz\n",
    "xtwone3four\n",
    "4nineeightseven2\n",
    "zoneight234\n",
    "7pqrstsixteen\n",
    "\n",
    "In this example, the calibration values are 29, 83, 13, 24, 42, 14, and 76. Adding these together produces 281."
   ]
  },
  {
   "cell_type": "code",
   "execution_count": 80,
   "metadata": {},
   "outputs": [],
   "source": [
    "test_2 = [\"two1nine\", \"eightwothree\", \"abcone2threexyz\", \"xtwone3four\", \"4nineeightseven2\", \"zoneight234\", \"7pqrstsixteen\"]"
   ]
  },
  {
   "cell_type": "code",
   "execution_count": 95,
   "metadata": {},
   "outputs": [],
   "source": [
    "def revised_count(input_file):\n",
    "    \n",
    "    # Initialize an empty list to store results\n",
    "    result_list = []\n",
    "\n",
    "    # Iterate through each line in the file\n",
    "    for line in input_file:\n",
    "        # Remove leading and trailing whitespaces\n",
    "        cleaned_line = line.strip()\n",
    "        # Check if the line is not empty\n",
    "        if cleaned_line:\n",
    "            # Substitute any words for numbers\n",
    "            newStr = re.sub(r'one',\"o1e\",cleaned_line)\n",
    "            newStr = re.sub(r'two',\"t2o\",newStr)\n",
    "            newStr = re.sub(r'three',\"t3e\",newStr)\n",
    "            newStr = re.sub(r'four',\"f4r\",newStr)\n",
    "            newStr = re.sub(r'five',\"f5e\",newStr)\n",
    "            newStr = re.sub(r'six',\"s6x\",newStr)\n",
    "            newStr = re.sub(r'seven',\"s7n\",newStr)\n",
    "            newStr = re.sub(r'eight',\"e8t\",newStr)\n",
    "            newStr = re.sub(r'nine',\"n9e\",newStr)\n",
    "\n",
    "\n",
    "\n",
    "            # Extract digits\n",
    "            digits = re.sub(r'[a-zA-Z\\n]', \"\", newStr)\n",
    "            first_digit = digits[0]\n",
    "            last_digit = digits[-1]\n",
    "\n",
    "            result_list.append(int(first_digit + last_digit))\n",
    "    \n",
    "    # Now sum these values\n",
    "    result_sum = sum(result_list)\n",
    "    \n",
    "    return result_sum"
   ]
  },
  {
   "cell_type": "code",
   "execution_count": 96,
   "metadata": {},
   "outputs": [
    {
     "data": {
      "text/plain": [
       "55686"
      ]
     },
     "execution_count": 96,
     "metadata": {},
     "output_type": "execute_result"
    }
   ],
   "source": [
    "revised_count(input_file)"
   ]
  }
 ],
 "metadata": {
  "kernelspec": {
   "display_name": "advent-of-code",
   "language": "python",
   "name": "python3"
  },
  "language_info": {
   "codemirror_mode": {
    "name": "ipython",
    "version": 3
   },
   "file_extension": ".py",
   "mimetype": "text/x-python",
   "name": "python",
   "nbconvert_exporter": "python",
   "pygments_lexer": "ipython3",
   "version": "3.10.12"
  },
  "orig_nbformat": 4
 },
 "nbformat": 4,
 "nbformat_minor": 2
}
